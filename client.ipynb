{
 "cells": [
  {
   "cell_type": "code",
   "execution_count": null,
   "metadata": {},
   "outputs": [
    {
     "ename": "",
     "evalue": "",
     "output_type": "error",
     "traceback": [
      "\u001b[1;31m누락된 모듈 '_distutils_hack' 때문에 kernel을 시작하지 못했습니다. 이 모듈을 설치하는 것을 고려하세요.\n",
      "\u001b[1;31m자세한 내용을 보려면 <a href='https://aka.ms/kernelFailuresMissingModule'>여기</a>를 클릭합니다."
     ]
    }
   ],
   "source": [
    "import socketio\n",
    "import asyncio\n",
    "\n",
    "# client side\n",
    "sio = socketio.Client()\n",
    "\n",
    "sio.connect('http://localhost:3000')\n",
    "print('my sid is', sio.sid)"
   ]
  }
 ],
 "metadata": {
  "kernelspec": {
   "display_name": "torch113",
   "language": "python",
   "name": "python3"
  },
  "language_info": {
   "name": "python",
   "version": "3.9.16"
  },
  "orig_nbformat": 4
 },
 "nbformat": 4,
 "nbformat_minor": 2
}
